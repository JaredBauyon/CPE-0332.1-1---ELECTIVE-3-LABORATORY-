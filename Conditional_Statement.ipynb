{
  "nbformat": 4,
  "nbformat_minor": 0,
  "metadata": {
    "colab": {
      "provenance": [],
      "authorship_tag": "ABX9TyNVOixon/bbj6AdOqu38avA",
      "include_colab_link": true
    },
    "kernelspec": {
      "name": "python3",
      "display_name": "Python 3"
    },
    "language_info": {
      "name": "python"
    }
  },
  "cells": [
    {
      "cell_type": "markdown",
      "metadata": {
        "id": "view-in-github",
        "colab_type": "text"
      },
      "source": [
        "<a href=\"https://colab.research.google.com/github/JaredBauyon/CPE-0332.1-1---ELECTIVE-3-LABORATORY-/blob/main/Conditional_Statement.ipynb\" target=\"_parent\"><img src=\"https://colab.research.google.com/assets/colab-badge.svg\" alt=\"Open In Colab\"/></a>"
      ]
    },
    {
      "cell_type": "markdown",
      "source": [
        "If Statement"
      ],
      "metadata": {
        "id": "OnIoJKXFDxxJ"
      }
    },
    {
      "cell_type": "code",
      "source": [
        "a = 12\n",
        "b = 100\n",
        "if b > a:\n",
        "\n",
        "      print (\"a is less than b\")"
      ],
      "metadata": {
        "colab": {
          "base_uri": "https://localhost:8080/"
        },
        "id": "nGqJMOdDCoO6",
        "outputId": "de230c46-c511-46a6-dc1d-cb1b89ba81ee"
      },
      "execution_count": 3,
      "outputs": [
        {
          "output_type": "stream",
          "name": "stdout",
          "text": [
            "a is less than b\n"
          ]
        }
      ]
    },
    {
      "cell_type": "markdown",
      "source": [
        "ElIf Statement"
      ],
      "metadata": {
        "id": "UR-si43XD8_G"
      }
    },
    {
      "cell_type": "code",
      "source": [
        "age = int (input())\n",
        "\n",
        "if age >= 18:\n",
        "    print(\"You are qualified to get a license\")\n",
        "elif age < 18:\n",
        "    print(\"You are not eligible to get a license\")"
      ],
      "metadata": {
        "colab": {
          "base_uri": "https://localhost:8080/"
        },
        "id": "w91_cBMYD_nl",
        "outputId": "c087eeaa-16b1-486f-86c6-27662c9c52eb"
      },
      "execution_count": 5,
      "outputs": [
        {
          "output_type": "stream",
          "name": "stdout",
          "text": [
            "18\n",
            "You are qualified to get a license\n"
          ]
        }
      ]
    },
    {
      "cell_type": "markdown",
      "source": [
        "Else Statement"
      ],
      "metadata": {
        "id": "UajKDUiMEhNZ"
      }
    },
    {
      "cell_type": "code",
      "source": [
        "print (\"Enter an Integer\")\n",
        "x = int(input())\n",
        "\n",
        "if x > 0:\n",
        "  print (\"A positive number\")\n",
        "elif x < 0:\n",
        "  print (\"A negative number\")\n",
        "else:\n",
        "  print (\"Zero\")"
      ],
      "metadata": {
        "colab": {
          "base_uri": "https://localhost:8080/"
        },
        "id": "KvqcLOLREiRA",
        "outputId": "c0fa381d-edf9-4c98-b457-a56db458e86f"
      },
      "execution_count": 8,
      "outputs": [
        {
          "output_type": "stream",
          "name": "stdout",
          "text": [
            "Enter an Integer\n",
            "-5\n",
            "A negative number\n"
          ]
        }
      ]
    },
    {
      "cell_type": "markdown",
      "source": [
        "Short Hand If Statement"
      ],
      "metadata": {
        "id": "JzeAAVZ5Fb0M"
      }
    },
    {
      "cell_type": "code",
      "source": [
        "if a<b: print('a is less than b')"
      ],
      "metadata": {
        "colab": {
          "base_uri": "https://localhost:8080/"
        },
        "id": "0xyM8dqxFdrU",
        "outputId": "4ecae017-1d72-4012-fa57-079e8b0d44b7"
      },
      "execution_count": 9,
      "outputs": [
        {
          "output_type": "stream",
          "name": "stdout",
          "text": [
            "a is less than b\n"
          ]
        }
      ]
    },
    {
      "cell_type": "markdown",
      "source": [
        "Short Hand If.. Else Statement"
      ],
      "metadata": {
        "id": "f-dFjnxoFvjA"
      }
    },
    {
      "cell_type": "code",
      "source": [
        "print (\"a is greater than b\") if a>b else print (\"b is greater than a\")"
      ],
      "metadata": {
        "colab": {
          "base_uri": "https://localhost:8080/"
        },
        "id": "H5sL_GTmFxwz",
        "outputId": "73bd1292-da53-4c15-d9cf-ef2e8c07b5d9"
      },
      "execution_count": 10,
      "outputs": [
        {
          "output_type": "stream",
          "name": "stdout",
          "text": [
            "b is greater than a\n"
          ]
        }
      ]
    },
    {
      "cell_type": "markdown",
      "source": [
        "And-Both Conditions are true"
      ],
      "metadata": {
        "id": "_vEkgHH8GR_r"
      }
    },
    {
      "cell_type": "code",
      "source": [
        "c = 500\n",
        "if a < b and c > a:\n",
        "  print (\"Both conditions are True\")"
      ],
      "metadata": {
        "colab": {
          "base_uri": "https://localhost:8080/"
        },
        "id": "RdVUK7mTGXI4",
        "outputId": "15065cfd-32e5-4c84-e8c4-2a79202bac0f"
      },
      "execution_count": 15,
      "outputs": [
        {
          "output_type": "stream",
          "name": "stdout",
          "text": [
            "Both conditions are True\n"
          ]
        }
      ]
    },
    {
      "cell_type": "markdown",
      "source": [
        "Or Statement"
      ],
      "metadata": {
        "id": "NzSYbXWgHF4U"
      }
    },
    {
      "cell_type": "code",
      "source": [
        "if a < b or a < c:\n",
        "  print (\"At least one of the conditions is True\")"
      ],
      "metadata": {
        "colab": {
          "base_uri": "https://localhost:8080/"
        },
        "id": "no1ZwsGCHHMr",
        "outputId": "98d0fc2a-ee27-443a-ba09-960a45d161c7"
      },
      "execution_count": 16,
      "outputs": [
        {
          "output_type": "stream",
          "name": "stdout",
          "text": [
            "At least one of the conditions is True\n"
          ]
        }
      ]
    },
    {
      "cell_type": "markdown",
      "source": [
        "Nested If Statement"
      ],
      "metadata": {
        "id": "8eObYp0_HQkv"
      }
    },
    {
      "cell_type": "code",
      "source": [
        "x = 50\n",
        "if x > 10:\n",
        "  print (\"Above ten,\")\n",
        "  if x > 20:\n",
        "    print (\"and also above 20!\")\n",
        "    if x > 30:\n",
        "      print (\"and also above 30!\")\n",
        "      if x > 40:\n",
        "        print (\"and also above 40!\")\n",
        "        if x > 50:\n",
        "          print (\"and also above 50!\")\n",
        "        else:\n",
        "          print (\"not above 50\")"
      ],
      "metadata": {
        "colab": {
          "base_uri": "https://localhost:8080/"
        },
        "id": "Orn1zJqnHwyg",
        "outputId": "bbbc1c9c-1c83-4a3d-cb3a-f4f464964445"
      },
      "execution_count": 31,
      "outputs": [
        {
          "output_type": "stream",
          "name": "stdout",
          "text": [
            "Above ten,\n",
            "and also above 20!\n",
            "and also above 30!\n",
            "and also above 40!\n",
            "not above 50\n"
          ]
        }
      ]
    },
    {
      "cell_type": "markdown",
      "source": [
        "EXAMPLE 3\n",
        "Write a program to determine the grades are:\n",
        "\n",
        "If:\n",
        "    Grade > = 75, \"Passed\"\n",
        "    Graded = 74, \"Remedial\"\n",
        "    Grade < 74, \"Failed\""
      ],
      "metadata": {
        "id": "MY1_xBMEK1aL"
      }
    },
    {
      "cell_type": "code",
      "source": [
        "#EXAMPLE 3 Write a program to determine the grades are: If: Grade > = 75, \"Passed\" Graded = 74, \"Remedial\" Grade < 74, \"Failed\"\n",
        "\n",
        "grade = int(input(\"Enter a grade: \"))\n",
        "\n",
        "if grade >= 75:\n",
        "    print(\"Passed\")\n",
        "elif grade == 74:\n",
        "    print(\"Remedial\")\n",
        "else:\n",
        "    print(\"Failed\")"
      ],
      "metadata": {
        "colab": {
          "base_uri": "https://localhost:8080/"
        },
        "id": "GD1PPWYZMbTg",
        "outputId": "75c60088-910a-4730-c9f8-367fb7a18244"
      },
      "execution_count": 42,
      "outputs": [
        {
          "output_type": "stream",
          "name": "stdout",
          "text": [
            "Enter a grade: 86\n",
            "Passed\n"
          ]
        }
      ]
    }
  ]
}