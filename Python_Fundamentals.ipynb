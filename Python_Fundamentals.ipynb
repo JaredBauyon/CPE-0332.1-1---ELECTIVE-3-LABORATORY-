{
  "nbformat": 4,
  "nbformat_minor": 0,
  "metadata": {
    "colab": {
      "provenance": [],
      "authorship_tag": "ABX9TyMWwd9wC0SboRt0MXU7FHyz",
      "include_colab_link": true
    },
    "kernelspec": {
      "name": "python3",
      "display_name": "Python 3"
    },
    "language_info": {
      "name": "python"
    }
  },
  "cells": [
    {
      "cell_type": "markdown",
      "metadata": {
        "id": "view-in-github",
        "colab_type": "text"
      },
      "source": [
        "<a href=\"https://colab.research.google.com/github/JaredBauyon/CPE-0332.1-1---ELECTIVE-3-LABORATORY-/blob/main/Python_Fundamentals.ipynb\" target=\"_parent\"><img src=\"https://colab.research.google.com/assets/colab-badge.svg\" alt=\"Open In Colab\"/></a>"
      ]
    },
    {
      "cell_type": "markdown",
      "source": [
        "Python Indentation"
      ],
      "metadata": {
        "id": "zAVl_Y_tjBk7"
      }
    },
    {
      "cell_type": "code",
      "execution_count": null,
      "metadata": {
        "colab": {
          "base_uri": "https://localhost:8080/"
        },
        "id": "6bbg71xjirly",
        "outputId": "ea4507a1-8524-42d9-eeca-93fb8e864c05"
      },
      "outputs": [
        {
          "output_type": "stream",
          "name": "stdout",
          "text": [
            "Five is greater than Two!\n"
          ]
        }
      ],
      "source": [
        "y = 2\n",
        "x = 5\n",
        "if x > y:\n",
        "  print (\"Five is greater than Two!\")"
      ]
    },
    {
      "cell_type": "markdown",
      "source": [
        "Python Comment"
      ],
      "metadata": {
        "id": "SZYaRA_0kbtu"
      }
    },
    {
      "cell_type": "code",
      "source": [
        "print(\"Hello World!\")\n",
        "#This is how to comment on python"
      ],
      "metadata": {
        "colab": {
          "base_uri": "https://localhost:8080/"
        },
        "id": "NKEvTPNOkdH7",
        "outputId": "59656539-b462-4943-e934-76de76f2a204"
      },
      "execution_count": null,
      "outputs": [
        {
          "output_type": "stream",
          "name": "stdout",
          "text": [
            "Hello World!\n"
          ]
        }
      ]
    },
    {
      "cell_type": "markdown",
      "source": [
        "Python Variable"
      ],
      "metadata": {
        "id": "JvwUOzjlkpjc"
      }
    },
    {
      "cell_type": "code",
      "source": [
        "z = 1\n",
        "x = 2\n",
        "y = 3\n",
        "z, x, y = 1, 2, 3\n",
        "print (z, x, y)\n",
        "print (z + x, y)\n",
        "print (z, x - y)"
      ],
      "metadata": {
        "colab": {
          "base_uri": "https://localhost:8080/"
        },
        "id": "euQjljhJkrBJ",
        "outputId": "3590fd86-b20b-497f-c4fc-94fedaae68bd"
      },
      "execution_count": null,
      "outputs": [
        {
          "output_type": "stream",
          "name": "stdout",
          "text": [
            "1 2 3\n",
            "3 3\n",
            "1 -1\n"
          ]
        }
      ]
    },
    {
      "cell_type": "markdown",
      "source": [
        "Casting\n"
      ],
      "metadata": {
        "id": "Y1ms2cnUl_T6"
      }
    },
    {
      "cell_type": "code",
      "source": [
        "b = \"Randalle\" #This is a string\n",
        "b = float(4)\n",
        "print (b)"
      ],
      "metadata": {
        "colab": {
          "base_uri": "https://localhost:8080/"
        },
        "id": "EZNYeudNmAS_",
        "outputId": "4b7b7be5-77a0-4ca7-9b1e-e770b24c5519"
      },
      "execution_count": null,
      "outputs": [
        {
          "output_type": "stream",
          "name": "stdout",
          "text": [
            "4.0\n"
          ]
        }
      ]
    },
    {
      "cell_type": "markdown",
      "source": [
        "Type () Function"
      ],
      "metadata": {
        "id": "UWBA18wSmkib"
      }
    },
    {
      "cell_type": "code",
      "source": [
        "print(type(b))"
      ],
      "metadata": {
        "colab": {
          "base_uri": "https://localhost:8080/"
        },
        "id": "9LiA4tU9mmRu",
        "outputId": "94e6b5fd-fee5-4439-9d40-50fdd568cb1e"
      },
      "execution_count": null,
      "outputs": [
        {
          "output_type": "stream",
          "name": "stdout",
          "text": [
            "<class 'float'>\n"
          ]
        }
      ]
    },
    {
      "cell_type": "markdown",
      "source": [
        "Double Quote and Single Quote"
      ],
      "metadata": {
        "id": "O9IBgG0em9Ef"
      }
    },
    {
      "cell_type": "code",
      "source": [
        "W = \"Ana\"\n",
        "print (W)\n",
        "Q = 'Ana'\n",
        "print (Q)"
      ],
      "metadata": {
        "colab": {
          "base_uri": "https://localhost:8080/"
        },
        "id": "s1Jxi3fOnOeQ",
        "outputId": "16c80a8c-a0fa-4009-ddae-529b435c22eb"
      },
      "execution_count": null,
      "outputs": [
        {
          "output_type": "stream",
          "name": "stdout",
          "text": [
            "Ana\n",
            "Ana\n"
          ]
        }
      ]
    },
    {
      "cell_type": "markdown",
      "source": [
        "Case Sensitive"
      ],
      "metadata": {
        "id": "e04kjYf9nb1e"
      }
    },
    {
      "cell_type": "code",
      "source": [
        "A = \"Sally\"\n",
        "a = 4\n",
        "print (A, a)\n",
        "print (A + str(4))"
      ],
      "metadata": {
        "colab": {
          "base_uri": "https://localhost:8080/"
        },
        "id": "Oi7ZsNoondEU",
        "outputId": "a97dc557-7ad3-43c8-ccc7-c1c0985850f0"
      },
      "execution_count": null,
      "outputs": [
        {
          "output_type": "stream",
          "name": "stdout",
          "text": [
            "Sally 4\n",
            "Sally4\n"
          ]
        }
      ]
    },
    {
      "cell_type": "markdown",
      "source": [
        "Multiple Variables"
      ],
      "metadata": {
        "id": "W_J_jLwvn_P_"
      }
    },
    {
      "cell_type": "code",
      "source": [
        "h, i , j = 'one', 'two', 'three'\n",
        "print (h)\n",
        "print (i)\n",
        "print (j)"
      ],
      "metadata": {
        "colab": {
          "base_uri": "https://localhost:8080/"
        },
        "id": "6oCpz3ANoAuf",
        "outputId": "5c4df3f5-d905-4e93-c131-087cc2d734a6"
      },
      "execution_count": null,
      "outputs": [
        {
          "output_type": "stream",
          "name": "stdout",
          "text": [
            "one\n",
            "two\n",
            "three\n"
          ]
        }
      ]
    },
    {
      "cell_type": "markdown",
      "source": [
        "Multiple Variables with Single Value"
      ],
      "metadata": {
        "id": "P-aUVHvwoV5h"
      }
    },
    {
      "cell_type": "code",
      "source": [
        "k = l = m = 'four'\n",
        "print (k, l, m)\n",
        "print (k)\n",
        "print (l)\n",
        "print (m)"
      ],
      "metadata": {
        "colab": {
          "base_uri": "https://localhost:8080/"
        },
        "id": "OiJNLc4ZoYCi",
        "outputId": "9ed83b4e-782e-48ef-b844-b24b37996c59"
      },
      "execution_count": null,
      "outputs": [
        {
          "output_type": "stream",
          "name": "stdout",
          "text": [
            "four four four\n",
            "four\n",
            "four\n",
            "four\n"
          ]
        }
      ]
    },
    {
      "cell_type": "markdown",
      "source": [
        "Output Variable and Concatenation +"
      ],
      "metadata": {
        "id": "Ap1fV4tUouNE"
      }
    },
    {
      "cell_type": "code",
      "source": [
        "n = 'enjoying'\n",
        "p = 'Python Programming is'\n",
        "print (\"Python Programming is \" + n)\n",
        "print (p, n)"
      ],
      "metadata": {
        "colab": {
          "base_uri": "https://localhost:8080/"
        },
        "id": "K7HSmefUpCFV",
        "outputId": "8ce3c158-d548-48b3-ec74-55943878062f"
      },
      "execution_count": null,
      "outputs": [
        {
          "output_type": "stream",
          "name": "stdout",
          "text": [
            "Python Programming is enjoying\n",
            "Python Programming is enjoying\n"
          ]
        }
      ]
    },
    {
      "cell_type": "markdown",
      "source": [
        "Arithmetic Operations"
      ],
      "metadata": {
        "id": "hHQWwnPrvjvZ"
      }
    },
    {
      "cell_type": "code",
      "source": [
        "print (x + y) #Addition\n",
        "print (x - y) #Subtraction\n",
        "print (x * y) #Multiplication\n",
        "print (x / y) #Division\n",
        "print (x % y) #Modulus\n",
        "print (x ** y) #Exponentiation\n",
        "print (x // y) #Floor Division\n",
        "#"
      ],
      "metadata": {
        "colab": {
          "base_uri": "https://localhost:8080/"
        },
        "id": "lno6iQ4Dvk7d",
        "outputId": "eab1e936-a2a2-4f88-b4fa-36c835b5ab21"
      },
      "execution_count": 36,
      "outputs": [
        {
          "output_type": "stream",
          "name": "stdout",
          "text": [
            "5\n",
            "-1\n",
            "6\n",
            "0.6666666666666666\n",
            "2\n",
            "8\n",
            "0\n"
          ]
        }
      ]
    },
    {
      "cell_type": "markdown",
      "source": [
        "Assignment Operator"
      ],
      "metadata": {
        "id": "m2yb2rCcw1xP"
      }
    },
    {
      "cell_type": "code",
      "source": [
        "x+=3 #Same as x = x + 3\n",
        "print(x)"
      ],
      "metadata": {
        "colab": {
          "base_uri": "https://localhost:8080/"
        },
        "id": "8Q2UlODXw3I2",
        "outputId": "388f7ea3-8d1a-4425-eeaa-64b420f53faf"
      },
      "execution_count": 46,
      "outputs": [
        {
          "output_type": "stream",
          "name": "stdout",
          "text": [
            "11\n"
          ]
        }
      ]
    },
    {
      "cell_type": "markdown",
      "source": [
        "Comparison Operator"
      ],
      "metadata": {
        "id": "10Wx57YoxNh4"
      }
    },
    {
      "cell_type": "code",
      "source": [
        "print (x==y) #x = 3, y = 2\n",
        "print (x!=y)\n",
        "print (x>y)\n",
        "print (x<y)"
      ],
      "metadata": {
        "colab": {
          "base_uri": "https://localhost:8080/"
        },
        "id": "pkP53uBPxYf5",
        "outputId": "12b6996c-dbd1-4c03-e14f-13b13e368a4a"
      },
      "execution_count": 44,
      "outputs": [
        {
          "output_type": "stream",
          "name": "stdout",
          "text": [
            "False\n",
            "True\n",
            "True\n",
            "False\n"
          ]
        }
      ]
    },
    {
      "cell_type": "markdown",
      "source": [
        "Logical Operators"
      ],
      "metadata": {
        "id": "YC2kH-vKx2Xw"
      }
    },
    {
      "cell_type": "code",
      "source": [
        "print (x==y and x!=y) #False and True\n",
        "print (x==y or x!=y) #False or True\n",
        "print (not( x==y or x!=y)) #Negate (False or True)"
      ],
      "metadata": {
        "colab": {
          "base_uri": "https://localhost:8080/"
        },
        "id": "Zo832x8Lx48p",
        "outputId": "3383e575-72e4-4d35-ffcf-e1ca1b5fa2a0"
      },
      "execution_count": 49,
      "outputs": [
        {
          "output_type": "stream",
          "name": "stdout",
          "text": [
            "False\n",
            "True\n",
            "False\n"
          ]
        }
      ]
    },
    {
      "cell_type": "markdown",
      "source": [
        "Identity Operators"
      ],
      "metadata": {
        "id": "_KdZJNrny3dC"
      }
    },
    {
      "cell_type": "code",
      "source": [
        "print (x is y) #x = 3 while y = 2\n",
        "print (x is not y)"
      ],
      "metadata": {
        "colab": {
          "base_uri": "https://localhost:8080/"
        },
        "id": "jHVSgDsvy4qI",
        "outputId": "e4f41972-bc00-4e5f-a994-72db8577b72a"
      },
      "execution_count": 52,
      "outputs": [
        {
          "output_type": "stream",
          "name": "stdout",
          "text": [
            "False\n",
            "True\n"
          ]
        }
      ]
    },
    {
      "cell_type": "markdown",
      "source": [
        "Bitwise Operators"
      ],
      "metadata": {
        "id": "nOAOYfZLzHy3"
      }
    },
    {
      "cell_type": "code",
      "source": [
        "#10 +1 = 11\n",
        "print (10 | 1)\n",
        "\n",
        "print (x>>1) #x=3"
      ],
      "metadata": {
        "colab": {
          "base_uri": "https://localhost:8080/"
        },
        "id": "B4Zcc8utzeqM",
        "outputId": "14e34c17-c4bd-46ad-9a5f-ef51c1774f68"
      },
      "execution_count": 54,
      "outputs": [
        {
          "output_type": "stream",
          "name": "stdout",
          "text": [
            "11\n",
            "5\n"
          ]
        }
      ]
    },
    {
      "cell_type": "markdown",
      "source": [
        "Application 1"
      ],
      "metadata": {
        "id": "cHIuzlbc08AI"
      }
    },
    {
      "cell_type": "code",
      "source": [
        "#Create a Python program that displays that displays your Fullname, Course and Section as your identity\n",
        "Name = \"Jared Randalle B. Bauyon\"\n",
        "Age = 21\n",
        "Course = 'BS CpE'\n",
        "Section = 'CpE 0322.1-1'\n",
        "\n",
        "print (\"My name is\", Name, \"and I am\", Age, \"Years old\")\n",
        "print (\"I am in\", Course, \"Under the section of\", Section )\n"
      ],
      "metadata": {
        "colab": {
          "base_uri": "https://localhost:8080/"
        },
        "id": "GhTOxBaE09JD",
        "outputId": "f1db087a-43d7-469c-95b4-25834540ca73"
      },
      "execution_count": 64,
      "outputs": [
        {
          "output_type": "stream",
          "name": "stdout",
          "text": [
            "My name is Jared Randalle B. Bauyon and I am 21 Years old\n",
            "I am in BS CpE Under the section of CpE 0322.1-1\n"
          ]
        }
      ]
    }
  ]
}